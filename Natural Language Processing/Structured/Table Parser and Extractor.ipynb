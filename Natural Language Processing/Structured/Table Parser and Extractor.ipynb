{
 "cells": [
  {
   "cell_type": "markdown",
   "metadata": {},
   "source": [
    "## Introduction"
   ]
  },
  {
   "cell_type": "markdown",
   "metadata": {},
   "source": [
    "The aim is to extract all the possible tables from the structured and unstructured SEC filings without any use of RegEx and try to aggregate all the tables which may or may not contain CDS information. Once that is comepletely, filtering method should be in place which would filter out the tables which do not have Credit Default Swap information"
   ]
  },
  {
   "cell_type": "markdown",
   "metadata": {},
   "source": [
    "## Declaring libraries required to run our implementation"
   ]
  },
  {
   "cell_type": "code",
   "execution_count": 1,
   "metadata": {},
   "outputs": [],
   "source": [
    "from bs4 import BeautifulSoup\n",
    "from collections import namedtuple\n",
    "\n",
    "import pprint\n",
    "import csv\n",
    "import urllib\n",
    "import re\n",
    "import sys"
   ]
  },
  {
   "cell_type": "markdown",
   "metadata": {},
   "source": [
    "## Defining a class Page to define the get table functions"
   ]
  },
  {
   "cell_type": "code",
   "execution_count": 2,
   "metadata": {},
   "outputs": [],
   "source": [
    "class Page:\n",
    "\n",
    "    def __init__(self, data):\n",
    "        \"\"\"\n",
    "        Retrieves and stores the urllib.urlopen object for a given url\n",
    "        \"\"\"\n",
    "\n",
    "        self.link = data\n",
    "\n",
    "    def get_tables(self,data):\n",
    "        \"\"\"\n",
    "        Extracts each table on the page and places it in a dictionary.\n",
    "        Converts each dictionary to a Table object. Returns a list of\n",
    "        pointers to the respective Table object(s).\n",
    "        \"\"\"\n",
    "        print(\"enter get table\")\n",
    "        soup = BeautifulSoup(data,\"lxml\")\n",
    "        print(\"done1\")\n",
    "        tables = soup.findAll(\"table\")\n",
    "        # have to extract each entry using nested loops\n",
    "        table_list = []\n",
    "        for table in tables:\n",
    "            # empty dictionary each time represents our table\n",
    "            table_dict = {}\n",
    "            rows = table.findAll(\"tr\")\n",
    "            # count will be the key for each list of values\n",
    "            count = 0\n",
    "            for row in rows:\n",
    "                value_list = []\n",
    "                entries = row.findAll(\"td\")\n",
    "                for entry in entries:\n",
    "                    # fix the encoding issues with utf-8\n",
    "                    entry = entry.text.encode(\"utf-8\",\"ignore\")\n",
    "                    strip_unicode = re.compile(\"([^-_a-zA-Z0-9!@#%&=,/'\\\";:~`\\$\\^\\*\\(\\)\\+\\[\\]\\.\\{\\}\\|\\?\\<\\>\\\\]+|[^\\s]+)\")\n",
    "                    entry = entry.decode(\"utf-8\")\n",
    "                    entry = strip_unicode.sub(\" \", entry)\n",
    "                    value_list.append(entry)\n",
    "                # we don't want empty data packages\n",
    "                if len(value_list) > 0:\n",
    "                    table_dict[count] = value_list\n",
    "                    count += 1\n",
    "\n",
    "            table_obj = Table(table_dict)\n",
    "            table_list.append(table_obj)\n",
    "\n",
    "        return table_list\n",
    "\n",
    "    def save_tables(self, tables, ignore_small=False):\n",
    "        \"\"\"\n",
    "        Takes an input a list of table objects and saves each\n",
    "        table to csv format. If ignore_small is True,\n",
    "        we ignore any tables with 5 entries or fewer. \n",
    "        \"\"\"\n",
    "\n",
    "        counter = 1\n",
    "        for table in tables:\n",
    "            if ignore_small:\n",
    "                if table.get_metadata().num_entries > 5:\n",
    "                    name = \"table\" + str(counter)\n",
    "                    table.save_table(name)\n",
    "                    counter += 1\n",
    "            else:\n",
    "                name = \"table\" + str(counter)\n",
    "                table.save_table(name)\n",
    "                counter += 1"
   ]
  },
  {
   "cell_type": "markdown",
   "metadata": {},
   "source": [
    "## Defining table function to get the table data and store it"
   ]
  },
  {
   "cell_type": "code",
   "execution_count": null,
   "metadata": {},
   "outputs": [],
   "source": [
    "Metadata = namedtuple(\"Metadata\", \"num_cols num_entries\")\n",
    "\n",
    "class Table:\n",
    "\n",
    "    def __init__(self, data):\n",
    "        \"\"\"\n",
    "        Stores a given table as a dictionary. The keys are the headings and the\n",
    "        values are the data, represented as lists.\n",
    "        \"\"\"\n",
    "        self.table_data = data\n",
    "\n",
    "    def get_metadata(self):\n",
    "        \"\"\"\n",
    "        Returns a Metadata object that contains the number of columns\n",
    "        and the total number of entries.\n",
    "        \"\"\"\n",
    "\n",
    "        col_headings = self.table_data.keys()\n",
    "        num_cols = len(col_headings)\n",
    "        num_entries = 0\n",
    "\n",
    "        for heading in col_headings:\n",
    "            num_entries += len(self.table_data[heading])\n",
    "\n",
    "        return Metadata(\n",
    "            num_cols = num_cols,\n",
    "            num_entries = num_entries\n",
    "        )\n",
    "\n",
    "    def show_table(self):\n",
    "        \"\"\"\n",
    "        Prints a formatted table to the command line using pprint\n",
    "        \"\"\"\n",
    "        pprint.pprint(self.table_data, width=1)\n",
    "\n",
    "    def save_table(self, name):\n",
    "        \"\"\"\n",
    "        Saves a table to csv format under the given file name. \n",
    "        File name should omit the extension.\n",
    "        \"\"\"\n",
    "        fname = name + \".csv\"\n",
    "\n",
    "        with open(fname, 'wb') as outf:\n",
    "            w = csv.writer(outf, dialect=\"excel\")\n",
    "            li = self.table_data.values()\n",
    "            w.writerows(li)\n"
   ]
  },
  {
   "cell_type": "markdown",
   "metadata": {},
   "source": [
    "## Driver Function"
   ]
  },
  {
   "cell_type": "code",
   "execution_count": null,
   "metadata": {},
   "outputs": [
    {
     "name": "stdout",
     "output_type": "stream",
     "text": [
      "converted page object.....\n",
      "enter get table\n"
     ]
    }
   ],
   "source": [
    "# enter the file we want\n",
    "f = open(\"0001193125-17-056504 2 copy.html\", 'r')\n",
    "data = f.read()\n",
    "f.close()\n",
    "\n",
    "# convert to a page object\n",
    "page = Page(data)\n",
    "print(\"converted page object.....\")\n",
    "# get the tables\n",
    "tables = page.get_tables(data)\n",
    "print(\"got the tables.......\")\n",
    "\n",
    "# save the tables\n",
    "page.save_tables(tables)\n",
    "print(\"tables saved.......\")\n",
    "# you can change the name that it saves the table to by calling save_table on the table object itself:\n",
    "# don't include the extension in the file name\n",
    "tables[0].save_table(\"customName\")\n",
    "print(\"saved the table........\")\n",
    "# Sometimes, websites use HTML tables to format their page, not represent data\n",
    "# You can use the ignore_small argument to handle this issue to some extent:\n",
    "\n",
    "# Note that the below code overwrites the table1.csv file that was created from the earlier url\n",
    "# https://coinmarketcap.com/exchanges/volume/24-hour/\n",
    "\n",
    "# This website is a good example of table fragments\n",
    "page = Page(data)\n",
    "tables = page.get_tables()\n",
    "page.save_tables(tables, ignore_small=False)"
   ]
  },
  {
   "cell_type": "code",
   "execution_count": null,
   "metadata": {},
   "outputs": [],
   "source": []
  }
 ],
 "metadata": {
  "kernelspec": {
   "display_name": "Python 3",
   "language": "python",
   "name": "python3"
  },
  "language_info": {
   "codemirror_mode": {
    "name": "ipython",
    "version": 3
   },
   "file_extension": ".py",
   "mimetype": "text/x-python",
   "name": "python",
   "nbconvert_exporter": "python",
   "pygments_lexer": "ipython3",
   "version": "3.6.3"
  }
 },
 "nbformat": 4,
 "nbformat_minor": 2
}
