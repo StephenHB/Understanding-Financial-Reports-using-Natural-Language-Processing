{
 "cells": [
  {
   "cell_type": "code",
   "execution_count": 30,
   "metadata": {},
   "outputs": [],
   "source": [
    "import pandas as pd\n",
    "import csv\n",
    "import matplotlib.pyplot as plt\n",
    "import numpy as np"
   ]
  },
  {
   "cell_type": "code",
   "execution_count": 36,
   "metadata": {},
   "outputs": [
    {
     "data": {
      "text/plain": [
       "['concerning the credit default swap agreements outstanding for the ING VP<p align=\"center\" style=\"margin:0in 0in .0001pt;text-align:center;\"><b><font size=\"1\" face=\"Times New Roman\" style=\"font-size:8.0pt;font-weight:bold;\">Buy/Sell<br><p align=\"center\" style=\"margin:0in 0in .0001pt;text-align:center;\"><b><font size=\"1\" face=\"Times New Roman\" style=\"font-size:8.0pt;font-weight:bold;\">Notional<br><p style=\"margin:0in 0in .0001pt 10.0pt;text-indent:-10.0pt;\"><font size=\"1\" face=\"Times New Roman\" style=\"font-size:9.0pt;\">Citibank N.A.</font></p><p style=\"margin:0in 0in .0001pt;\"><font size=\"1\" face=\"Times New Roman\" style=\"font-size:9.0pt;\">Georgia Pacific 8.125% due 5/15/2011</font></p><p align=\"center\" style=\"margin:0in 0in .0001pt;text-align:center;\"><font size=\"1\" face=\"Times New Roman\" style=\"font-size:9.0pt;\">Buy</font></p><p style=\"margin:0in 0in .0001pt 10.0pt;text-indent:-10.0pt;\"><font size=\"1\" face=\"Times New Roman\" style=\"font-size:9.0pt;\">UBS AG</font></p><p style=\"margin:0in 0in .0001pt;\"><font size=\"1\" face=\"Times New Roman\" style=\"font-size:9.0pt;\">CDX.NA.IG.6</font></p><p align=\"center\" style=\"margin:0in 0in .0001pt;text-align:center;\"><font size=\"1\" face=\"Times New Roman\" style=\"font-size:9.0pt;\">Buy</font></p><p style=\"margin:0in 0in .0001pt 10.0pt;text-indent:-10.0pt;\"><font size=\"1\" face=\"Times New Roman\" style=\"font-size:9.0pt;\">Morgan Stanley</font></p><p style=\"margin:0in 0in .0001pt;\"><font size=\"1\" face=\"Times New Roman\" style=\"font-size:9.0pt;\">CDX.NA.HY.6</font></p><p align=\"center\" style=\"margin:0in 0in .0001pt;text-align:center;\"><font size=\"1\" face=\"Times New Roman\" style=\"font-size:9.0pt;\">Buy</font></p><p style=\"margin:0in 0in .0001pt 10.0pt;text-indent:-10.0pt;\"><font size=\"1\" face=\"Times New Roman\" style=\"font-size:9.0pt;\">Morgan Stanley</font></p><p style=\"margin:0in 0in .0001pt;\"><font size=\"1\" face=\"Times New Roman\" style=\"font-size:9.0pt;\">CDX.NA.HY.6</font></p><p align=\"center\" style=\"margin:0in 0in .0001pt;text-align:center;\"><font size=\"1\" face=\"Times New Roman\" style=\"font-size:9.0pt;\">Buy</font></p><p style=\"margin:0in 0in .0001pt 10.0pt;text-indent:-10.0pt;\"><font size=\"1\" face=\"Times New Roman\" style=\"font-size:9.0pt;\">UBS AG</font></p><p style=\"margin:0in 0in .0001pt;\"><font size=\"1\" face=\"Times New Roman\" style=\"font-size:9.0pt;\">CDX.NA.HY.6</font></p><p align=\"center\" style=\"margin:0in 0in .0001pt;text-align:center;\"><font size=\"1\" face=\"Times New Roman\" style=\"font-size:9.0pt;\">Buy</font></p><p style=\"margin:0in 0in .0001pt 10.0pt;text-indent:-10.0pt;\"><font size=\"1\" face=\"Times New Roman\" style=\"font-size:9.0pt;\">Morgan Stanley</font></p><p style=\"margin:0in 0in .0001pt;\"><font size=\"1\" face=\"Times New Roman\" style=\"font-size:9.0pt;\">CDX.NA.HY.6</font></p><p align=\"center\" style=\"margin:0in 0in .0001pt;text-align:center;\"><font size=\"1\" face=\"Times New Roman\" style=\"font-size:9.0pt;\">Buy</font></p><p style=\"margin:0in 0in .0001pt 10.0pt;text-indent:-10.0pt;\"><font size=\"1\" face=\"Times New Roman\" style=\"font-size:9.0pt;\">Citibank N.A.</font></p><p style=\"margin:0in 0in .0001pt;\"><font size=\"1\" face=\"Times New Roman\" style=\"font-size:9.0pt;\">Windstream 8.125% due 8/1/2013</font></p><p align=\"center\" style=\"margin:0in 0in .0001pt;text-align:center;\"><font size=\"1\" face=\"Times New Roman\" style=\"font-size:9.0pt;\">Buy</font></p><p style=\"margin:0in 0in .0001pt 10.0pt;text-indent:-10.0pt;\"><font size=\"1\" face=\"Times New Roman\" style=\"font-size:9.0pt;\">UBS AG</font></p><p style=\"margin:0in 0in .0001pt;\"><font size=\"1\" face=\"Times New Roman\" style=\"font-size:9.0pt;\">Windstream 8.125% due 8/1/2013</font></p><p align=\"center\" style=\"margin:0in 0in .0001pt;text-align:center;\"><font size=\"1\" face=\"Times New Roman\" style=\"font-size:9.0pt;\">Buy</font></p><p style=\"margin:0in 0in .0001pt 10.0pt;text-indent:-10.0pt;\"><font size=\"2\" face=\"Times New Roman\" style=\"font-size:10.0pt;\">Morgan Stanley</font></p><p style=\"margin:0in 0in .0001pt 10.0pt;text-indent:-10.0pt;\"><font size=\"2\" face=\"Times New Roman\" style=\"font-size:10.0pt;\">Morgan Stanley</font></p>Counterparty: UBS AG</font></p><p style=\"margin:0in 0in .0001pt;\"><b><u><font size=\"1\" face=\"Times New Roman\" style=\"font-size:8.0pt;font-weight:bold;\">Counterparty</font></u></b></p><p align=\"center\" style=\"margin:0in 0in .0001pt;text-align:center;\"><b><font size=\"1\" face=\"Times New Roman\" style=\"font-size:8.0pt;font-weight:bold;\">Buy/Sell<br><p align=\"center\" style=\"margin:0in 0in .0001pt;text-align:center;\"><b><font size=\"1\" face=\"Times New Roman\" style=\"font-size:8.0pt;font-weight:bold;\">Notional<br><p align=\"center\" style=\"margin:0in 0in .0001pt;text-align:center;\"><font size=\"2\" face=\"Times New Roman\" style=\"font-size:10.0pt;\">Buy</font></p><p align=\"right\" style=\"margin:0in 0in .0001pt;text-align:right;\"><font size=\"2\" face=\"Times New Roman\" style=\"font-size:10.0pt;\">1,030,000</font></p><p style=\"margin:0in 0in .0001pt;\"><font size=\"2\" face=\"Times New Roman\" style=\"font-size:10.0pt;\">UBS AG</font></p><p style=\"margin:0in 0in .0001pt;\"><font size=\"2\" face=\"Times New Roman\" style=\"font-size:10.0pt;\">CDX.NA.IG.6</font></p><p align=\"center\" style=\"margin:0in 0in .0001pt;text-align:center;\"><font size=\"2\" face=\"Times New Roman\" style=\"font-size:10.0pt;\">Buy</font></p><p align=\"right\" style=\"margin:0in 0in .0001pt;text-align:right;\"><font size=\"2\" face=\"Times New Roman\" style=\"font-size:10.0pt;\">55,217,800</font></p><p style=\"margin:0in 0in .0001pt;\"><font size=\"2\" face=\"Times New Roman\" style=\"font-size:10.0pt;\">CDX.NA.HY.6</font></p><p align=\"center\" style=\"margin:0in 0in .0001pt;text-align:center;\"><font size=\"2\" face=\"Times New Roman\" style=\"font-size:10.0pt;\">Buy</font></p><p align=\"right\" style=\"margin:0in 0in .0001pt;text-align:right;\"><font size=\"2\" face=\"Times New Roman\" style=\"font-size:10.0pt;\">5,501,000</font></p><p style=\"margin:0in 0in .0001pt;\"><font size=\"2\" face=\"Times New Roman\" style=\"font-size:10.0pt;\">CDX.NA.HY.6</font></p><p align=\"center\" style=\"margin:0in 0in .0001pt;text-align:center;\"><font size=\"2\" face=\"Times New Roman\" style=\"font-size:10.0pt;\">Buy</font></p><p align=\"right\" style=\"margin:0in 0in .0001pt;text-align:right;\"><font size=\"2\" face=\"Times New Roman\" style=\"font-size:10.0pt;\">5,501,000</font></p><p style=\"margin:0in 0in .0001pt;\"><font size=\"2\" face=\"Times New Roman\" style=\"font-size:10.0pt;\">UBS AG</font></p><p style=\"margin:0in 0in .0001pt;\"><font size=\"2\" face=\"Times New Roman\" style=\"font-size:10.0pt;\">CDX.NA.HY.6</font></p><p align=\"center\" style=\"margin:0in 0in .0001pt;text-align:center;\"><font size=\"2\" face=\"Times New Roman\" style=\"font-size:10.0pt;\">Buy</font></p><p align=\"right\" style=\"margin:0in 0in .0001pt;text-align:right;\"><font size=\"2\" face=\"Times New Roman\" style=\"font-size:10.0pt;\">5,501,000</font></p><p style=\"margin:0in 0in .0001pt;\"><font size=\"2\" face=\"Times New Roman\" style=\"font-size:10.0pt;\">CDX.NA.HY.6</font></p><p align=\"center\" style=\"margin:0in 0in .0001pt;text-align:center;\"><font size=\"2\" face=\"Times New Roman\" style=\"font-size:10.0pt;\">Buy</font></p><p align=\"right\" style=\"margin:0in 0in .0001pt;text-align:right;\"><font size=\"2\" face=\"Times New Roman\" style=\"font-size:10.0pt;\">5,501,000</font></p><p style=\"margin:0in 0in .0001pt;\"><font size=\"2\" face=\"Times New Roman\" style=\"font-size:10.0pt;\">Windstream<p align=\"center\" style=\"margin:0in 0in .0001pt;text-align:center;\"><font size=\"2\" face=\"Times New Roman\" style=\"font-size:10.0pt;\">Buy</font></p><p align=\"right\" style=\"margin:0in 0in .0001pt;text-align:right;\"><font size=\"2\" face=\"Times New Roman\" style=\"font-size:10.0pt;\">2,885,000</font></p><p style=\"margin:0in 0in .0001pt;\"><font size=\"2\" face=\"Times New Roman\" style=\"font-size:10.0pt;\">UBS AG</font></p><p style=\"margin:0in 0in .0001pt;\"><font size=\"2\" face=\"Times New Roman\" style=\"font-size:10.0pt;\">Windstream<p align=\"center\" style=\"margin:0in 0in .0001pt;text-align:center;\"><font size=\"2\" face=\"Times New Roman\" style=\"font-size:10.0pt;\">Buy</font></p><p align=\"right\" style=\"margin:0in 0in .0001pt;text-align:right;\"><font size=\"2\" face=\"Times New Roman\" style=\"font-size:10.0pt;\">2,750,500</font></p><p style=\"margin:0in 0in .0001pt;\"><font size=\"2\" face=\"Times New Roman\" style=\"font-size:10.0pt;\">UBS AG</font></p><TD VALIGN=\"top\"> <P STYLE=\"margin-left:1.00em; text-indent:-1.00em; font-size:9pt; font-family:Arial Narrow\">Citigroup Inc.,</P></TD><TD VALIGN=\"bottom\" STYLE=\"BORDER-BOTTOM:1px solid #000000\"><FONT STYLE=\"font-family:Arial Narrow; \"><B>Reference&nbsp;Entity</B></FONT></TD><TD VALIGN=\"top\" STYLE=\"BORDER-BOTTOM:1.50pt solid #000000\"> <P STYLE=\"margin-left:1.00em; text-indent:-1.00em; font-size:9pt; font-family:Arial Narrow\">Bank&nbsp;of&nbsp;America</P></TD>']"
      ]
     },
     "execution_count": 36,
     "metadata": {},
     "output_type": "execute_result"
    }
   ],
   "source": [
    "#Load the .csv file to be parsed into the format required\n",
    "df = pd.read_csv('tagging_copy.csv')\n",
    "df = df['Word']\n",
    "df = \"\".join(df).split('\\n')\n",
    "df"
   ]
  },
  {
   "cell_type": "code",
   "execution_count": null,
   "metadata": {},
   "outputs": [],
   "source": [
    "if "
   ]
  },
  {
   "cell_type": "code",
   "execution_count": null,
   "metadata": {},
   "outputs": [],
   "source": []
  }
 ],
 "metadata": {
  "kernelspec": {
   "display_name": "Python 2",
   "language": "python",
   "name": "python2"
  },
  "language_info": {
   "codemirror_mode": {
    "name": "ipython",
    "version": 2
   },
   "file_extension": ".py",
   "mimetype": "text/x-python",
   "name": "python",
   "nbconvert_exporter": "python",
   "pygments_lexer": "ipython2",
   "version": "2.7.14"
  }
 },
 "nbformat": 4,
 "nbformat_minor": 2
}
